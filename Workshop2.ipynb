{
  "nbformat": 4,
  "nbformat_minor": 0,
  "metadata": {
    "colab": {
      "provenance": [],
      "toc_visible": true,
      "include_colab_link": true
    },
    "kernelspec": {
      "display_name": "Python 3",
      "name": "python3"
    },
    "language_info": {
      "name": "python"
    }
  },
  "cells": [
    {
      "cell_type": "markdown",
      "metadata": {
        "id": "view-in-github",
        "colab_type": "text"
      },
      "source": [
        "<a href=\"https://colab.research.google.com/github/rarulz/experiments/blob/main/Workshop2.ipynb\" target=\"_parent\"><img src=\"https://colab.research.google.com/assets/colab-badge.svg\" alt=\"Open In Colab\"/></a>"
      ]
    },
    {
      "cell_type": "code",
      "metadata": {
        "colab": {
          "base_uri": "https://localhost:8080/"
        },
        "id": "Sa5QaIsfgmdR",
        "outputId": "ded99c90-4fa9-42d2-8d67-afad9ef591f3"
      },
      "source": [
        "print('hello world')"
      ],
      "execution_count": null,
      "outputs": [
        {
          "output_type": "stream",
          "text": [
            "hello world\n"
          ],
          "name": "stdout"
        }
      ]
    },
    {
      "cell_type": "markdown",
      "metadata": {
        "id": "Ic3QMm57Z1Fr"
      },
      "source": [
        "## Pandas"
      ]
    },
    {
      "cell_type": "markdown",
      "metadata": {
        "id": "-0s8XGguqWQU"
      },
      "source": [
        "Step 1: Visit this link\n",
        "https://docs.google.com/spreadsheets/d/1XaRO1IMuqE8evlRGKeAIKCKcsH9H4YF6_ntG70Ukp5g/edit?usp=sharing\n",
        "\n",
        "Step 2: Go to file at the top left, click download, and then comma seperated values (.csv).\n",
        "Step 3: On the left side of Google Colab, click the folder icon and then \n",
        "click the folder with the up arrow inside of it. This will upload the file into the colab.\n",
        "This line imports the pandas package into our program."
      ]
    },
    {
      "cell_type": "code",
      "metadata": {
        "colab": {
          "base_uri": "https://localhost:8080/",
          "height": 408
        },
        "id": "dLKTEPAPqS2f",
        "outputId": "98d41c75-ba10-4fe9-d07b-54ed89482c7f"
      },
      "source": [
        "import pandas as pd\n",
        "df = pd.read_csv(r'/content/Sheet1.csv') #this line reads the csv file that is the template for this. This csv file is full of random integers.\n",
        "print (df) #this prints out the csv file, showing rows on the left column, and the values on the right column"
      ],
      "execution_count": null,
      "outputs": [
        {
          "output_type": "error",
          "ename": "FileNotFoundError",
          "evalue": "ignored",
          "traceback": [
            "\u001b[0;31m---------------------------------------------------------------------------\u001b[0m",
            "\u001b[0;31mFileNotFoundError\u001b[0m                         Traceback (most recent call last)",
            "\u001b[0;32m<ipython-input-1-bdf5b0e76248>\u001b[0m in \u001b[0;36m<module>\u001b[0;34m()\u001b[0m\n\u001b[1;32m      1\u001b[0m \u001b[0;32mimport\u001b[0m \u001b[0mpandas\u001b[0m \u001b[0;32mas\u001b[0m \u001b[0mpd\u001b[0m\u001b[0;34m\u001b[0m\u001b[0;34m\u001b[0m\u001b[0m\n\u001b[0;32m----> 2\u001b[0;31m \u001b[0mdf\u001b[0m \u001b[0;34m=\u001b[0m \u001b[0mpd\u001b[0m\u001b[0;34m.\u001b[0m\u001b[0mread_csv\u001b[0m\u001b[0;34m(\u001b[0m\u001b[0;34mr'/content/Sheet1.csv'\u001b[0m\u001b[0;34m)\u001b[0m \u001b[0;31m#this line reads the csv file that is the template for this. This csv file is full of random integers.\u001b[0m\u001b[0;34m\u001b[0m\u001b[0;34m\u001b[0m\u001b[0m\n\u001b[0m\u001b[1;32m      3\u001b[0m \u001b[0mprint\u001b[0m \u001b[0;34m(\u001b[0m\u001b[0mdf\u001b[0m\u001b[0;34m)\u001b[0m \u001b[0;31m#this prints out the csv file, showing rows on the left column, and the values on the right column\u001b[0m\u001b[0;34m\u001b[0m\u001b[0;34m\u001b[0m\u001b[0m\n",
            "\u001b[0;32m/usr/local/lib/python3.7/dist-packages/pandas/io/parsers.py\u001b[0m in \u001b[0;36mread_csv\u001b[0;34m(filepath_or_buffer, sep, delimiter, header, names, index_col, usecols, squeeze, prefix, mangle_dupe_cols, dtype, engine, converters, true_values, false_values, skipinitialspace, skiprows, skipfooter, nrows, na_values, keep_default_na, na_filter, verbose, skip_blank_lines, parse_dates, infer_datetime_format, keep_date_col, date_parser, dayfirst, cache_dates, iterator, chunksize, compression, thousands, decimal, lineterminator, quotechar, quoting, doublequote, escapechar, comment, encoding, dialect, error_bad_lines, warn_bad_lines, delim_whitespace, low_memory, memory_map, float_precision)\u001b[0m\n\u001b[1;32m    686\u001b[0m     )\n\u001b[1;32m    687\u001b[0m \u001b[0;34m\u001b[0m\u001b[0m\n\u001b[0;32m--> 688\u001b[0;31m     \u001b[0;32mreturn\u001b[0m \u001b[0m_read\u001b[0m\u001b[0;34m(\u001b[0m\u001b[0mfilepath_or_buffer\u001b[0m\u001b[0;34m,\u001b[0m \u001b[0mkwds\u001b[0m\u001b[0;34m)\u001b[0m\u001b[0;34m\u001b[0m\u001b[0;34m\u001b[0m\u001b[0m\n\u001b[0m\u001b[1;32m    689\u001b[0m \u001b[0;34m\u001b[0m\u001b[0m\n\u001b[1;32m    690\u001b[0m \u001b[0;34m\u001b[0m\u001b[0m\n",
            "\u001b[0;32m/usr/local/lib/python3.7/dist-packages/pandas/io/parsers.py\u001b[0m in \u001b[0;36m_read\u001b[0;34m(filepath_or_buffer, kwds)\u001b[0m\n\u001b[1;32m    452\u001b[0m \u001b[0;34m\u001b[0m\u001b[0m\n\u001b[1;32m    453\u001b[0m     \u001b[0;31m# Create the parser.\u001b[0m\u001b[0;34m\u001b[0m\u001b[0;34m\u001b[0m\u001b[0;34m\u001b[0m\u001b[0m\n\u001b[0;32m--> 454\u001b[0;31m     \u001b[0mparser\u001b[0m \u001b[0;34m=\u001b[0m \u001b[0mTextFileReader\u001b[0m\u001b[0;34m(\u001b[0m\u001b[0mfp_or_buf\u001b[0m\u001b[0;34m,\u001b[0m \u001b[0;34m**\u001b[0m\u001b[0mkwds\u001b[0m\u001b[0;34m)\u001b[0m\u001b[0;34m\u001b[0m\u001b[0;34m\u001b[0m\u001b[0m\n\u001b[0m\u001b[1;32m    455\u001b[0m \u001b[0;34m\u001b[0m\u001b[0m\n\u001b[1;32m    456\u001b[0m     \u001b[0;32mif\u001b[0m \u001b[0mchunksize\u001b[0m \u001b[0;32mor\u001b[0m \u001b[0miterator\u001b[0m\u001b[0;34m:\u001b[0m\u001b[0;34m\u001b[0m\u001b[0;34m\u001b[0m\u001b[0m\n",
            "\u001b[0;32m/usr/local/lib/python3.7/dist-packages/pandas/io/parsers.py\u001b[0m in \u001b[0;36m__init__\u001b[0;34m(self, f, engine, **kwds)\u001b[0m\n\u001b[1;32m    946\u001b[0m             \u001b[0mself\u001b[0m\u001b[0;34m.\u001b[0m\u001b[0moptions\u001b[0m\u001b[0;34m[\u001b[0m\u001b[0;34m\"has_index_names\"\u001b[0m\u001b[0;34m]\u001b[0m \u001b[0;34m=\u001b[0m \u001b[0mkwds\u001b[0m\u001b[0;34m[\u001b[0m\u001b[0;34m\"has_index_names\"\u001b[0m\u001b[0;34m]\u001b[0m\u001b[0;34m\u001b[0m\u001b[0;34m\u001b[0m\u001b[0m\n\u001b[1;32m    947\u001b[0m \u001b[0;34m\u001b[0m\u001b[0m\n\u001b[0;32m--> 948\u001b[0;31m         \u001b[0mself\u001b[0m\u001b[0;34m.\u001b[0m\u001b[0m_make_engine\u001b[0m\u001b[0;34m(\u001b[0m\u001b[0mself\u001b[0m\u001b[0;34m.\u001b[0m\u001b[0mengine\u001b[0m\u001b[0;34m)\u001b[0m\u001b[0;34m\u001b[0m\u001b[0;34m\u001b[0m\u001b[0m\n\u001b[0m\u001b[1;32m    949\u001b[0m \u001b[0;34m\u001b[0m\u001b[0m\n\u001b[1;32m    950\u001b[0m     \u001b[0;32mdef\u001b[0m \u001b[0mclose\u001b[0m\u001b[0;34m(\u001b[0m\u001b[0mself\u001b[0m\u001b[0;34m)\u001b[0m\u001b[0;34m:\u001b[0m\u001b[0;34m\u001b[0m\u001b[0;34m\u001b[0m\u001b[0m\n",
            "\u001b[0;32m/usr/local/lib/python3.7/dist-packages/pandas/io/parsers.py\u001b[0m in \u001b[0;36m_make_engine\u001b[0;34m(self, engine)\u001b[0m\n\u001b[1;32m   1178\u001b[0m     \u001b[0;32mdef\u001b[0m \u001b[0m_make_engine\u001b[0m\u001b[0;34m(\u001b[0m\u001b[0mself\u001b[0m\u001b[0;34m,\u001b[0m \u001b[0mengine\u001b[0m\u001b[0;34m=\u001b[0m\u001b[0;34m\"c\"\u001b[0m\u001b[0;34m)\u001b[0m\u001b[0;34m:\u001b[0m\u001b[0;34m\u001b[0m\u001b[0;34m\u001b[0m\u001b[0m\n\u001b[1;32m   1179\u001b[0m         \u001b[0;32mif\u001b[0m \u001b[0mengine\u001b[0m \u001b[0;34m==\u001b[0m \u001b[0;34m\"c\"\u001b[0m\u001b[0;34m:\u001b[0m\u001b[0;34m\u001b[0m\u001b[0;34m\u001b[0m\u001b[0m\n\u001b[0;32m-> 1180\u001b[0;31m             \u001b[0mself\u001b[0m\u001b[0;34m.\u001b[0m\u001b[0m_engine\u001b[0m \u001b[0;34m=\u001b[0m \u001b[0mCParserWrapper\u001b[0m\u001b[0;34m(\u001b[0m\u001b[0mself\u001b[0m\u001b[0;34m.\u001b[0m\u001b[0mf\u001b[0m\u001b[0;34m,\u001b[0m \u001b[0;34m**\u001b[0m\u001b[0mself\u001b[0m\u001b[0;34m.\u001b[0m\u001b[0moptions\u001b[0m\u001b[0;34m)\u001b[0m\u001b[0;34m\u001b[0m\u001b[0;34m\u001b[0m\u001b[0m\n\u001b[0m\u001b[1;32m   1181\u001b[0m         \u001b[0;32melse\u001b[0m\u001b[0;34m:\u001b[0m\u001b[0;34m\u001b[0m\u001b[0;34m\u001b[0m\u001b[0m\n\u001b[1;32m   1182\u001b[0m             \u001b[0;32mif\u001b[0m \u001b[0mengine\u001b[0m \u001b[0;34m==\u001b[0m \u001b[0;34m\"python\"\u001b[0m\u001b[0;34m:\u001b[0m\u001b[0;34m\u001b[0m\u001b[0;34m\u001b[0m\u001b[0m\n",
            "\u001b[0;32m/usr/local/lib/python3.7/dist-packages/pandas/io/parsers.py\u001b[0m in \u001b[0;36m__init__\u001b[0;34m(self, src, **kwds)\u001b[0m\n\u001b[1;32m   2008\u001b[0m         \u001b[0mkwds\u001b[0m\u001b[0;34m[\u001b[0m\u001b[0;34m\"usecols\"\u001b[0m\u001b[0;34m]\u001b[0m \u001b[0;34m=\u001b[0m \u001b[0mself\u001b[0m\u001b[0;34m.\u001b[0m\u001b[0musecols\u001b[0m\u001b[0;34m\u001b[0m\u001b[0;34m\u001b[0m\u001b[0m\n\u001b[1;32m   2009\u001b[0m \u001b[0;34m\u001b[0m\u001b[0m\n\u001b[0;32m-> 2010\u001b[0;31m         \u001b[0mself\u001b[0m\u001b[0;34m.\u001b[0m\u001b[0m_reader\u001b[0m \u001b[0;34m=\u001b[0m \u001b[0mparsers\u001b[0m\u001b[0;34m.\u001b[0m\u001b[0mTextReader\u001b[0m\u001b[0;34m(\u001b[0m\u001b[0msrc\u001b[0m\u001b[0;34m,\u001b[0m \u001b[0;34m**\u001b[0m\u001b[0mkwds\u001b[0m\u001b[0;34m)\u001b[0m\u001b[0;34m\u001b[0m\u001b[0;34m\u001b[0m\u001b[0m\n\u001b[0m\u001b[1;32m   2011\u001b[0m         \u001b[0mself\u001b[0m\u001b[0;34m.\u001b[0m\u001b[0munnamed_cols\u001b[0m \u001b[0;34m=\u001b[0m \u001b[0mself\u001b[0m\u001b[0;34m.\u001b[0m\u001b[0m_reader\u001b[0m\u001b[0;34m.\u001b[0m\u001b[0munnamed_cols\u001b[0m\u001b[0;34m\u001b[0m\u001b[0;34m\u001b[0m\u001b[0m\n\u001b[1;32m   2012\u001b[0m \u001b[0;34m\u001b[0m\u001b[0m\n",
            "\u001b[0;32mpandas/_libs/parsers.pyx\u001b[0m in \u001b[0;36mpandas._libs.parsers.TextReader.__cinit__\u001b[0;34m()\u001b[0m\n",
            "\u001b[0;32mpandas/_libs/parsers.pyx\u001b[0m in \u001b[0;36mpandas._libs.parsers.TextReader._setup_parser_source\u001b[0;34m()\u001b[0m\n",
            "\u001b[0;31mFileNotFoundError\u001b[0m: [Errno 2] No such file or directory: '/content/Sheet1.csv'"
          ]
        }
      ]
    },
    {
      "cell_type": "markdown",
      "metadata": {
        "id": "0JVqLfs4tGYw"
      },
      "source": [
        "Using df.head(n)"
      ]
    },
    {
      "cell_type": "code",
      "metadata": {
        "colab": {
          "background_save": true
        },
        "id": "NILtWMqnqTlO",
        "outputId": "88183813-3621-44f7-a29e-51a41620bad7"
      },
      "source": [
        "print(df.head(5)) #this will show us the first 5 values of the dataframe we have created."
      ],
      "execution_count": null,
      "outputs": [
        {
          "output_type": "error",
          "ename": "NameError",
          "evalue": "ignored",
          "traceback": [
            "\u001b[0;31m---------------------------------------------------------------------------\u001b[0m",
            "\u001b[0;31mNameError\u001b[0m                                 Traceback (most recent call last)",
            "\u001b[0;32m<ipython-input-4-077e9a15ceee>\u001b[0m in \u001b[0;36m<module>\u001b[0;34m()\u001b[0m\n\u001b[0;32m----> 1\u001b[0;31m \u001b[0mprint\u001b[0m\u001b[0;34m(\u001b[0m\u001b[0mdf\u001b[0m\u001b[0;34m.\u001b[0m\u001b[0mhead\u001b[0m\u001b[0;34m(\u001b[0m\u001b[0;36m5\u001b[0m\u001b[0;34m)\u001b[0m\u001b[0;34m)\u001b[0m \u001b[0;31m#this will show us the first 5 values of the dataframe we have created.\u001b[0m\u001b[0;34m\u001b[0m\u001b[0;34m\u001b[0m\u001b[0m\n\u001b[0m",
            "\u001b[0;31mNameError\u001b[0m: name 'df' is not defined"
          ]
        }
      ]
    },
    {
      "cell_type": "markdown",
      "metadata": {
        "id": "0GNXeDDntJzA"
      },
      "source": [
        "Using df.tail(n)"
      ]
    },
    {
      "cell_type": "code",
      "metadata": {
        "colab": {
          "background_save": true
        },
        "id": "orzb18S3s-td"
      },
      "source": [
        "print(df.tail(5)) #this will show us the last 5 values of the dataframe we have created."
      ],
      "execution_count": null,
      "outputs": []
    },
    {
      "cell_type": "markdown",
      "metadata": {
        "id": "Ik_CA3zQtTEU"
      },
      "source": [
        "Using df.shape to see how many rows and columns there are in the dataset. Remember, rows and columns begin counting at location 0."
      ]
    },
    {
      "cell_type": "code",
      "metadata": {
        "colab": {
          "background_save": true
        },
        "id": "lqlUYZ1RtQ-k"
      },
      "source": [
        "df.shape #this will return (rows, columns). The actual amount of rows in the spreadsheet will always be 1 more than what the code tells you as it begins counting with 0."
      ],
      "execution_count": null,
      "outputs": []
    },
    {
      "cell_type": "markdown",
      "metadata": {
        "id": "uZ19TiylueqY"
      },
      "source": [
        "Using df.drop([a,b]) to remove rows."
      ]
    },
    {
      "cell_type": "code",
      "metadata": {
        "colab": {
          "background_save": true
        },
        "id": "v2PPaJ_btakI"
      },
      "source": [
        "df2 = df.drop([0,2,4,6]) #this deletes the 0th, 2nd, 4th, and 6th row.\n",
        "print (df2)"
      ],
      "execution_count": null,
      "outputs": []
    },
    {
      "cell_type": "markdown",
      "metadata": {
        "id": "pnylwNzIIoYf"
      },
      "source": [
        "## Matplotlib"
      ]
    },
    {
      "cell_type": "code",
      "metadata": {
        "id": "PoHnE3stI5BC"
      },
      "source": [
        "import numpy as np\n",
        "import pandas as pd\n",
        "import matplotlib.pyplot as plt\n"
      ],
      "execution_count": null,
      "outputs": []
    },
    {
      "cell_type": "code",
      "metadata": {
        "colab": {
          "base_uri": "https://localhost:8080/",
          "height": 283
        },
        "id": "inIwgKP8IzDx",
        "outputId": "4cf35c84-3a41-4b63-8260-a4aa4e153388"
      },
      "source": [
        "#Scatterplot\n",
        "fig = plt.figure()\n",
        "ax = plt.axes()\n",
        "x = np.linspace(0,10, 20)\n",
        "y = [] #creating y-values to be plotted\n",
        "for i in range(len(x)):\n",
        "  y.append(np.random.randint(0,100)) #creating the x-values for the scatterplot\n",
        "ax.scatter(x,y)\n"
      ],
      "execution_count": null,
      "outputs": [
        {
          "output_type": "execute_result",
          "data": {
            "text/plain": [
              "<matplotlib.collections.PathCollection at 0x7f36df87ff50>"
            ]
          },
          "metadata": {
            "tags": []
          },
          "execution_count": 3
        },
        {
          "output_type": "display_data",
          "data": {
            "image/png": "[encoded data removed]",
            "text/plain": [
              "<Figure size 432x288 with 1 Axes>"
            ]
          },
          "metadata": {
            "tags": [],
            "needs_background": "light"
          }
        }
      ]
    },
    {
      "cell_type": "code",
      "metadata": {
        "colab": {
          "base_uri": "https://localhost:8080/",
          "height": 282
        },
        "id": "yMepcNmNKhy8",
        "outputId": "e46264ee-a573-456b-f305-a3c48a9b2250"
      },
      "source": [
        "#Line Graph\n",
        "fig2 = plt.figure()\n",
        "ax2 = plt.axes()\n",
        "y2 = [] #using different values for y, so there's not a random line\n",
        "for i in range(len(x)):\n",
        "  y2.append(2*x[i]) #graphing the line y = 2x\n",
        "y3 = [] \n",
        "for i in range(len(x)):\n",
        "  y3.append(2*x[i] + 2) #graphing the line y = 2x + 2\n",
        "y4 = [] \n",
        "for i in range(len(x)):\n",
        "  y4.append(2*x[i] + 4) #graphing the line y = 2x + 4\n",
        "y5 = [] \n",
        "for i in range(len(x)):\n",
        "  y5.append(2*x[i] + 6) #graphing the line y = 2x + 6\n",
        "ax2.plot(x,y2, '-g') #solid green line for the plot\n",
        "ax2.plot(x,y3, '--c') #dashed cyan line\n",
        "ax2.plot(x,y4, '-.k') #dashdot black\n",
        "ax2.plot(x,y5, ':r') #dotted"
      ],
      "execution_count": null,
      "outputs": [
        {
          "output_type": "execute_result",
          "data": {
            "text/plain": [
              "[<matplotlib.lines.Line2D at 0x7f6ae1c9c050>]"
            ]
          },
          "metadata": {
            "tags": []
          },
          "execution_count": 23
        },
        {
          "output_type": "display_data",
          "data": {
            "image/png": "[encoded data removed]",
            "text/plain": [
              "<Figure size 432x288 with 1 Axes>"
            ]
          },
          "metadata": {
            "tags": []
          }
        }
      ]
    },
    {
      "cell_type": "code",
      "metadata": {
        "colab": {
          "base_uri": "https://localhost:8080/",
          "height": 282
        },
        "id": "aZcCw8ylOI9T",
        "outputId": "cc6c2183-19b3-4366-df56-cb1e629f2132"
      },
      "source": [
        "#Bar Graph\n",
        "fig3 = plt.figure()\n",
        "ax3 = plt.axes()\n",
        "categories = ['1st','2nd','3rd','4th','5th'] #sample categories, in this case grade level\n",
        "student_count = [30,20,40,51,60] #number of students per grade\n",
        "ax3.bar(categories, student_count, color = 'b')"
      ],
      "execution_count": null,
      "outputs": [
        {
          "output_type": "execute_result",
          "data": {
            "text/plain": [
              "<BarContainer object of 5 artists>"
            ]
          },
          "metadata": {
            "tags": []
          },
          "execution_count": 24
        },
        {
          "output_type": "display_data",
          "data": {
            "image/png": "[encoded data removed]",
            "text/plain": [
              "<Figure size 432x288 with 1 Axes>"
            ]
          },
          "metadata": {
            "tags": []
          }
        }
      ]
    },
    {
      "cell_type": "code",
      "metadata": {
        "colab": {
          "base_uri": "https://localhost:8080/",
          "height": 316
        },
        "id": "cWxJxABhOtnN",
        "outputId": "32f133a3-572d-496a-9ad7-feebecd3bfc4"
      },
      "source": [
        "#Histogram\n",
        "fig4 = plt.figure()\n",
        "ax4 = plt.axes()\n",
        "ax4.hist(y, bins = 10, color = 'green')"
      ],
      "execution_count": null,
      "outputs": [
        {
          "output_type": "execute_result",
          "data": {
            "text/plain": [
              "(array([3., 2., 1., 3., 1., 3., 1., 0., 2., 4.]),\n",
              " array([ 6., 15., 24., 33., 42., 51., 60., 69., 78., 87., 96.]),\n",
              " <a list of 10 Patch objects>)"
            ]
          },
          "metadata": {
            "tags": []
          },
          "execution_count": 29
        },
        {
          "output_type": "display_data",
          "data": {
            "image/png": "[encoded data removed]",
            "text/plain": [
              "<Figure size 432x288 with 1 Axes>"
            ]
          },
          "metadata": {
            "tags": []
          }
        }
      ]
    },
    {
      "cell_type": "markdown",
      "metadata": {
        "id": "DrBXkDKn5clQ"
      },
      "source": [
        "# NumPy"
      ]
    },
    {
      "cell_type": "markdown",
      "metadata": {
        "id": "JP6z2nUBYpKq"
      },
      "source": [
        "Revise concepts through our recording and through this link: https://towardsdatascience.com/lets-talk-about-numpy-for-datascience-beginners-b8088722309f\n"
      ]
    },
    {
      "cell_type": "markdown",
      "metadata": {
        "id": "5Vef26kQ0x6J"
      },
      "source": [
        "Let's start off by importing numPy"
      ]
    },
    {
      "cell_type": "code",
      "metadata": {
        "id": "VmdVqGiZ1I9j"
      },
      "source": [],
      "execution_count": null,
      "outputs": []
    },
    {
      "cell_type": "markdown",
      "metadata": {
        "id": "4_GiRLFf1ApC"
      },
      "source": [
        "Time to create your first numPy array!"
      ]
    },
    {
      "cell_type": "markdown",
      "metadata": {
        "id": "COFmOECV1Hmq"
      },
      "source": [
        "Make it have 5 elements of which all are 1s."
      ]
    },
    {
      "cell_type": "code",
      "metadata": {
        "id": "WxriW8hV1U5K"
      },
      "source": [],
      "execution_count": null,
      "outputs": []
    },
    {
      "cell_type": "markdown",
      "metadata": {
        "id": "3tsqwbRez3P3"
      },
      "source": [
        "Change the first 3 elements of your array to equal 100, 101,and 102 respectively. The, print your new version out. Now, print out the maximum value and the minimum value in your array\n",
        "\n"
      ]
    },
    {
      "cell_type": "code",
      "metadata": {
        "id": "KZgRK0et0R3P"
      },
      "source": [],
      "execution_count": null,
      "outputs": []
    },
    {
      "cell_type": "markdown",
      "metadata": {
        "id": "mb7INJjBMhTw"
      },
      "source": [
        "Some Guided Practice..."
      ]
    },
    {
      "cell_type": "code",
      "metadata": {
        "id": "tJ9hZ8OrMDts"
      },
      "source": [
        "import numpy as np\n",
        "myFirstArray = np.array([1,2,3,4,8])\n",
        "print(myFirstArray * myFirstArray)\n",
        "print(myFirstArray[3])\n",
        "print(myFirstArray + myFirstArray)\n",
        "print(myFirstArray / myFirstArray)\n",
        "print(myFirstArray - myFirstArray)\n",
        "print(myFirstArray + 50)\n",
        "\n",
        "mySecondArray = np.array([3,6,9])\n",
        "print(myFirstArray * mySecondArray)"
      ],
      "execution_count": null,
      "outputs": []
    },
    {
      "cell_type": "code",
      "metadata": {
        "id": "rH3vIwpHMGhA"
      },
      "source": [
        "np.arange(3)"
      ],
      "execution_count": null,
      "outputs": []
    },
    {
      "cell_type": "code",
      "metadata": {
        "id": "ao_lHA5dMJLf"
      },
      "source": [
        "a = np.array([[0,1,2], [3,4,5], [6,7,8]])\n",
        "\n",
        "#quick check: what are the dimensions of this array?\n",
        "\n",
        "b = a[0] #note: we write a[0] instead of np[0]... why is this?\n",
        "\n",
        "print(b)\n",
        "\n",
        "#what type is b?\n",
        "print(type(b))\n",
        "\n",
        "print (b * b) \n",
        "# works like an array\n",
        "\n",
        "print(type([1,2,3]))\n",
        "# what will this print out?"
      ],
      "execution_count": null,
      "outputs": []
    },
    {
      "cell_type": "code",
      "metadata": {
        "id": "XoPSj5ggMZrO"
      },
      "source": [
        "x = np.array([1,2,3,4,5,6,7,8,9,10,11,12]) # creating a numpy array of 12 elements; this is a 1 dimensional array\n",
        "print(x)\n",
        "x = x.reshape(3,4) # after reshaping our numpy array we update x by saying x = (the reshaped version)\n",
        "# Note notice how it is x.reshape() instead of np.reshape()... why is this?\n",
        "\n",
        "print(x)\n",
        "\n"
      ],
      "execution_count": null,
      "outputs": []
    },
    {
      "cell_type": "code",
      "metadata": {
        "id": "0Ii4BEwLMcqf"
      },
      "source": [
        "#examples from the slide\n",
        "\n",
        "myNewFirstArray = myFirstArray.reshape(5,1)\n",
        "print(myFirstArray)\n",
        "print(myNewFirstArray)\n",
        "print(mySecondArray)\n",
        "\n",
        "print(myNewFirstArray * mySecondArray)"
      ],
      "execution_count": null,
      "outputs": []
    },
    {
      "cell_type": "code",
      "metadata": {
        "id": "vPkqG4BslfOB"
      },
      "source": [
        "#corrections from slides\n",
        "\n",
        "import numpy as np\n",
        "\n",
        "print(np.ones(5))\n",
        "\n",
        "print(np.zeros(5))\n",
        "\n",
        "my_array = np.array([2,2,2])\n",
        "print(my_array)\n",
        "my_array = my_array.reshape(3,1)\n",
        "print(my_array)\n",
        "\n",
        "print(my_array.shape)\n",
        "\n",
        "print(my_array[2])\n",
        "\n",
        "print(my_array[2][0])\n",
        "\n",
        "#what is the difference between the last two print statements)\n",
        "\n",
        "my_second_array = np.array([1,2,3,4,5])\n",
        "\n",
        "print(my_second_array.max())\n",
        "print(my_second_array.min())\n"
      ],
      "execution_count": null,
      "outputs": []
    },
    {
      "cell_type": "markdown",
      "metadata": {
        "id": "S-AXRIDa1_0e"
      },
      "source": [
        "Great Job!"
      ]
    }
  ]
}